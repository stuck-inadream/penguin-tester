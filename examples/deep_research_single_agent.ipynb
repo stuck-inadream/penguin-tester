{
  "cells": [
    {
      "cell_type": "markdown",
      "metadata": {},
      "source": [
        "# Deep research single agent\n\nA tiny evaluator with a toy knowledge graph and checkpoints.\n"
      ]
    },
    {
      "cell_type": "code",
      "metadata": {},
      "source": [
        "from src.agentic_research.evaluator import ResearchEvaluator\n",
        "r = ResearchEvaluator()\n",
        "r.add_fact(\"penguin\",\"can\",\"swim\")\n",
        "hits = r.search(\"penguin\")\n",
        "print(\"hits\", hits)\n",
        "print(r.score([\"search\",\"validate\"], \"final\"))\n"
      ],
      "execution_count": null,
      "outputs": []
    }
  ],
  "metadata": {
    "kernelspec": {
      "display_name": "python3",
      "language": "python",
      "name": "python3"
    }
  },
  "nbformat": 4,
  "nbformat_minor": 5
}