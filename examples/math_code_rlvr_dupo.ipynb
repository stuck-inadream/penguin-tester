{
  "cells": [
    {
      "cell_type": "markdown",
      "metadata": {},
      "source": [
        "# Math and code RLVR with DuPO\n\nThis notebook demonstrates CVR rewards and DuPO dual checks on toy tasks.\n"
      ]
    },
    {
      "cell_type": "code",
      "metadata": {},
      "source": [
        "from src.reward_cvr import CVRReward, DuPOSelfVerifier\n",
        "cvr = CVRReward.load(\"configs/cvr_dopo.yaml\")\n",
        "dupo = DuPOSelfVerifier()\n",
        "prompt = \"do penguins fly?\"\n",
        "cands = [\"yes\", \"no\", \"yes\", \"yes\"]\n",
        "rewards = [cvr.score(prompt, a) for a in cands]\n",
        "du = dupo.dual_check(prompt, cands)\n",
        "print(\"Rewards:\", rewards)\n",
        "print(\"DuPO Check:\", du)\n"
      ],
      "execution_count": null,
      "outputs": []
    }
  ],
  "metadata": {
    "kernelspec": {
      "display_name": "python3",
      "language": "python",
      "name": "python3"
    }
  },
  "nbformat": 4,
  "nbformat_minor": 5
}